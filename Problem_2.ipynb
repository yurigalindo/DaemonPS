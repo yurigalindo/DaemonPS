{
  "nbformat": 4,
  "nbformat_minor": 0,
  "metadata": {
    "colab": {
      "name": "Problem 2.ipynb",
      "provenance": [],
      "authorship_tag": "ABX9TyOFcJ1DZpxaj8mEjMDwvNJg",
      "include_colab_link": true
    },
    "kernelspec": {
      "name": "python3",
      "display_name": "Python 3"
    },
    "language_info": {
      "name": "python"
    }
  },
  "cells": [
    {
      "cell_type": "markdown",
      "metadata": {
        "id": "view-in-github",
        "colab_type": "text"
      },
      "source": [
        "<a href=\"https://colab.research.google.com/github/yurigalindo/DaemonPS/blob/main/Problem_2.ipynb\" target=\"_parent\"><img src=\"https://colab.research.google.com/assets/colab-badge.svg\" alt=\"Open In Colab\"/></a>"
      ]
    },
    {
      "cell_type": "markdown",
      "metadata": {
        "id": "ISj8Efr0kVQt"
      },
      "source": [
        "#Problem 2: Portfolio Rebalance\n"
      ]
    },
    {
      "cell_type": "code",
      "metadata": {
        "id": "grV5jOrQePO3"
      },
      "source": [
        "import warnings\n",
        "warnings.filterwarnings(\"ignore\") #This ignores all warnings, useful for generating a readable notebook.\n",
        "#Warnings should not be ignored when developing since they may contain useful info.\n",
        "import pandas as pd\n",
        "import numpy as np\n",
        "import matplotlib.pyplot as plt"
      ],
      "execution_count": 2,
      "outputs": []
    },
    {
      "cell_type": "markdown",
      "metadata": {
        "id": "Qk7H17jPc_KS"
      },
      "source": [
        "Based on the log returns, we can exponentiate the log returns and multiply by the original deltas to obtain the new deltas. We can sum the log returns of the first ten days.\n",
        "\n",
        "Since the value of the portfolio has changed, the total sum of weights may be different from one. From this total sum we can recover the total return of the portfolio.\n",
        "\n",
        "We must divide all the deltas by this sum to keep them summing to one before computing the trades needed for rebalancing."
      ]
    },
    {
      "cell_type": "code",
      "metadata": {
        "id": "JM3B35zBkjaP"
      },
      "source": [
        "first_deltas = np.array([0.1,0.15,0.1,0.05,0.05,0.1,0.2,0.1,0.05,0.1] )\n",
        "logreturns = pd.read_csv('logreturns.csv')\n",
        "logreturns.drop('DATE',1,inplace=True)\n",
        "#dropped the date column because it doesn't add extra information \n",
        "#and math will be smoother without it"
      ],
      "execution_count": 4,
      "outputs": []
    },
    {
      "cell_type": "code",
      "metadata": {
        "colab": {
          "base_uri": "https://localhost:8080/"
        },
        "id": "MJuX7xI60-sY",
        "outputId": "94415c7a-fb4b-4f66-ab6f-d9872f4e10b2"
      },
      "source": [
        "ten_days = logreturns.iloc[:10,:] #Select all of the columns for rows 0-9\n",
        "ten_days_return = ten_days.sum(axis=0) #Computes the sum for each column\n",
        "ten_days_return = np.exp(ten_days_return.values) #Convert to real returns\n",
        "ten_days_delta = np.multiply(first_deltas,ten_days_return) #Compute the updated deltas\n",
        "ten_days_total_return = np.sum(ten_days_delta) #The sum represents the portfolio total value\n",
        "ten_days_delta /= ten_days_total_return #Make them sum to one\n",
        "print(ten_days_delta)"
      ],
      "execution_count": 5,
      "outputs": [
        {
          "output_type": "stream",
          "text": [
            "[0.09532127 0.17827229 0.07413902 0.05361232 0.05049917 0.10575837\n",
            " 0.20175461 0.10540594 0.05087038 0.08436663]\n"
          ],
          "name": "stdout"
        }
      ]
    },
    {
      "cell_type": "code",
      "metadata": {
        "colab": {
          "base_uri": "https://localhost:8080/"
        },
        "id": "LEIfOvCoKMDa",
        "outputId": "fc3e0d6b-0853-4c0c-aa0e-06ef53ca50e0"
      },
      "source": [
        "ten_days_desired = np.array([0.2,0.1, 0.1, 0.1, 0.05, 0.1, 0.05, 0.2, 0.05, 0.05])\n",
        "trades = ten_days_desired - ten_days_delta\n",
        "print(trades)"
      ],
      "execution_count": 6,
      "outputs": [
        {
          "output_type": "stream",
          "text": [
            "[ 0.10467873 -0.07827229  0.02586098  0.04638768 -0.00049917 -0.00575837\n",
            " -0.15175461  0.09459406 -0.00087038 -0.03436663]\n"
          ],
          "name": "stdout"
        }
      ]
    },
    {
      "cell_type": "markdown",
      "metadata": {
        "id": "jyhGT7movzeB"
      },
      "source": [
        "##a) Necessary trades (positive means buy, negative means sell): \n",
        "\n",
        "AA    0.104679  \n",
        "BB   -0.078272  \n",
        "CC    0.025861  \n",
        "DD    0.046388  \n",
        "EE   -0.000499  \n",
        "FF   -0.005758  \n",
        "GG   -0.151755  \n",
        "HH    0.094594  \n",
        "II   -0.000870  \n",
        "JJ   -0.034367  "
      ]
    },
    {
      "cell_type": "markdown",
      "metadata": {
        "id": "ZfFbzMqu5Q6d"
      },
      "source": [
        "We can repeat the first steps, but this time starting with the new deltas and considering the returns of the final days."
      ]
    },
    {
      "cell_type": "code",
      "metadata": {
        "colab": {
          "base_uri": "https://localhost:8080/"
        },
        "id": "GbjUFvw2Kk7d",
        "outputId": "a13cba14-2a67-4c1a-cf37-0f5b37b56ff7"
      },
      "source": [
        "final_days = logreturns.iloc[10:,:] #Select all of the columns for rows 10-14\n",
        "final_days_return = final_days.sum(axis=0) #Computes the sum for each column\n",
        "final_days_return = np.exp(final_days_return.values) #Convert to real returns\n",
        "final_days_delta = np.multiply(ten_days_desired,final_days_return) #Compute the updated deltas\n",
        "final_days_total_return = np.sum(final_days_delta) #The sum represents the portfolio value\n",
        "print(ten_days_total_return)\n",
        "print(final_days_total_return)"
      ],
      "execution_count": 8,
      "outputs": [
        {
          "output_type": "stream",
          "text": [
            "1.0182782358231413\n",
            "0.9915445786832808\n"
          ],
          "name": "stdout"
        }
      ]
    },
    {
      "cell_type": "markdown",
      "metadata": {
        "id": "Jki5SQODLD-R"
      },
      "source": [
        "Since we consider compound growth, we must multiply the returns of the two periods."
      ]
    },
    {
      "cell_type": "code",
      "metadata": {
        "colab": {
          "base_uri": "https://localhost:8080/"
        },
        "id": "VdayqeDtLXY5",
        "outputId": "a8f18128-985f-4d93-e511-71e848a29041"
      },
      "source": [
        "total_return = ten_days_total_return*final_days_total_return\n",
        "print(total_return)\n",
        "print((total_return-1)*100)"
      ],
      "execution_count": 10,
      "outputs": [
        {
          "output_type": "stream",
          "text": [
            "1.009668264321611\n",
            "0.9668264321611053\n"
          ],
          "name": "stdout"
        }
      ]
    },
    {
      "cell_type": "markdown",
      "metadata": {
        "id": "aLOL_emGLdjh"
      },
      "source": [
        "##b) Total return: 0.9%"
      ]
    }
  ]
}