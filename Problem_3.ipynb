{
  "nbformat": 4,
  "nbformat_minor": 0,
  "metadata": {
    "colab": {
      "name": "Problem 3.ipynb",
      "provenance": [],
      "authorship_tag": "ABX9TyP4JL31tBfUTs0Hfx1GFdG9",
      "include_colab_link": true
    },
    "kernelspec": {
      "name": "python3",
      "display_name": "Python 3"
    },
    "language_info": {
      "name": "python"
    }
  },
  "cells": [
    {
      "cell_type": "markdown",
      "metadata": {
        "id": "view-in-github",
        "colab_type": "text"
      },
      "source": [
        "<a href=\"https://colab.research.google.com/github/yurigalindo/DaemonPS/blob/main/Problem_3.ipynb\" target=\"_parent\"><img src=\"https://colab.research.google.com/assets/colab-badge.svg\" alt=\"Open In Colab\"/></a>"
      ]
    },
    {
      "cell_type": "markdown",
      "metadata": {
        "id": "hEFGVntqzv82"
      },
      "source": [
        "#Problem 3: Web Scraping and Estimation\n",
        "\n"
      ]
    },
    {
      "cell_type": "code",
      "metadata": {
        "id": "grV5jOrQePO3"
      },
      "source": [
        "import warnings\n",
        "warnings.filterwarnings(\"ignore\") #This ignores all warnings, useful for generating a readable notebook.\n",
        "#Warnings should not be ignored when developing since they may contain useful info.\n",
        "import pandas as pd\n",
        "import numpy as np\n",
        "import matplotlib.pyplot as plt"
      ],
      "execution_count": 1,
      "outputs": []
    },
    {
      "cell_type": "markdown",
      "metadata": {
        "id": "OiRT22OiwMtT"
      },
      "source": [
        "## 1. 2. 3. Web Scraper, partial answer"
      ]
    },
    {
      "cell_type": "code",
      "metadata": {
        "id": "3UaOwdeFzu0x"
      },
      "source": [
        "from bs4 import BeautifulSoup\n",
        "\n",
        "import requests\n",
        "headers = {'User-Agent': 'Mozilla/5.0 (Macintosh; Intel Mac OS X 10_11_5) AppleWebKit/537.36 (KHTML, like Gecko) Chrome/50.0.2661.102 Safari/537.36'}\n",
        "#headers are needed or the access would be denied\n",
        "html = requests.get(\"https://www.investing.com/equities/barrick-gold-corp.-historical-data\",headers=headers).content\n",
        "#storing a get request\n",
        "soup = BeautifulSoup(html, 'html.parser') #parsing the request with beautifulsoup"
      ],
      "execution_count": 2,
      "outputs": []
    },
    {
      "cell_type": "code",
      "metadata": {
        "id": "6Oa0r7hKzvYr",
        "colab": {
          "base_uri": "https://localhost:8080/"
        },
        "outputId": "c6cdf10c-b400-4958-d259-adaa3312a688"
      },
      "source": [
        "prices = soup.find_all('td', class_=[\"redFont\", \"greenFont\"],attrs={\"data-real-value\": True})\n",
        "#These are the attributes of the html element that holds the price\n",
        "for price in prices:\n",
        "    print(price.text) #The text corresponds to the price we want"
      ],
      "execution_count": 3,
      "outputs": [
        {
          "output_type": "stream",
          "text": [
            "23.15\n",
            "23.23\n",
            "23.71\n",
            "23.01\n",
            "23.12\n",
            "23.41\n",
            "23.46\n",
            "23.21\n",
            "24.17\n",
            "24.26\n",
            "24.08\n",
            "23.86\n",
            "24.58\n",
            "24.58\n",
            "24.68\n",
            "24.70\n",
            "24.81\n",
            "24.59\n",
            "25.11\n",
            "25.27\n"
          ],
          "name": "stdout"
        }
      ]
    },
    {
      "cell_type": "markdown",
      "metadata": {
        "id": "J2zKgaOZoCvO"
      },
      "source": [
        "I wasn't able to build a crawler in time due to the interaction with javascript objects needed to display the desired data. I was able to build a scraper that got the prices of a given investing.com webpage.\n",
        "\n",
        "I downloaded the historical data manually using the \"Download Data\" feature of the website, going back 12 months. The following estimation will be done with the downloaded csvs.\n",
        "\n",
        "TODO: web scraper"
      ]
    },
    {
      "cell_type": "markdown",
      "metadata": {
        "id": "r5QMaLGKwT80"
      },
      "source": [
        "## 4. Estimation"
      ]
    },
    {
      "cell_type": "code",
      "metadata": {
        "id": "L5H_dzuT3e0a"
      },
      "source": [
        "copper = pd.read_csv('Copper Futures Historical Data.csv')\n",
        "barrick = pd.read_csv('GOLD Historical Data.csv')\n",
        "gold = pd.read_csv('Gold Futures Historical Data.csv', thousands=',')"
      ],
      "execution_count": 4,
      "outputs": []
    },
    {
      "cell_type": "code",
      "metadata": {
        "id": "TbLv7hLppmhA"
      },
      "source": [
        "copper.drop(['Open','High','Low','Vol.','Change %'],axis=1,inplace=True) #Dropping unnecessary columns\n",
        "barrick.drop(['Open','High','Low','Vol.','Change %'],axis=1,inplace=True)\n",
        "gold.drop(['Open','High','Low','Vol.','Change %'],axis=1,inplace=True)"
      ],
      "execution_count": 5,
      "outputs": []
    },
    {
      "cell_type": "code",
      "metadata": {
        "id": "z6peVZpGs0SL"
      },
      "source": [
        "df=copper.set_index('Date').join(gold.set_index('Date'),lsuffix='_copper', how = 'inner', rsuffix='_gold')\n",
        "#Joining the copper and gold datasets using the date as index"
      ],
      "execution_count": 6,
      "outputs": []
    },
    {
      "cell_type": "code",
      "metadata": {
        "id": "L5gNUL0VtMWY"
      },
      "source": [
        "df=df.join(barrick.set_index('Date'),how='inner',rsuffix='_barrick') #Inner join to remove missing dates"
      ],
      "execution_count": 7,
      "outputs": []
    },
    {
      "cell_type": "code",
      "metadata": {
        "colab": {
          "base_uri": "https://localhost:8080/"
        },
        "id": "s9mvpYv3sc5Z",
        "outputId": "e286e23c-9f6c-424e-ae71-e9ccee592581"
      },
      "source": [
        "X,y = np.array(df.iloc[:,:-1]), np.array(df.iloc[:,-1]) #Separating the columns into np arrays for the regression\n",
        "\n",
        "from sklearn.linear_model import LinearRegression\n",
        "regressor = LinearRegression()\n",
        "regressor.fit(X, y) #Fit the model"
      ],
      "execution_count": 8,
      "outputs": [
        {
          "output_type": "execute_result",
          "data": {
            "text/plain": [
              "LinearRegression(copy_X=True, fit_intercept=True, n_jobs=None, normalize=False)"
            ]
          },
          "metadata": {
            "tags": []
          },
          "execution_count": 8
        }
      ]
    },
    {
      "cell_type": "code",
      "metadata": {
        "colab": {
          "base_uri": "https://localhost:8080/"
        },
        "id": "62XlNQgmv3My",
        "outputId": "4fb59abc-0ac8-4ba9-ae16-3cb578fd94a4"
      },
      "source": [
        "regressor.coef_ #Coefficients, left is copper and right is gold"
      ],
      "execution_count": null,
      "outputs": [
        {
          "output_type": "execute_result",
          "data": {
            "text/plain": [
              "array([-1.90447994,  0.02398571])"
            ]
          },
          "metadata": {
            "tags": []
          },
          "execution_count": 14
        }
      ]
    },
    {
      "cell_type": "code",
      "metadata": {
        "colab": {
          "base_uri": "https://localhost:8080/"
        },
        "id": "_HwuB7Hmv85y",
        "outputId": "792258be-434a-496d-ea6e-49a835d55dce"
      },
      "source": [
        "regressor.intercept_ #Intercept"
      ],
      "execution_count": null,
      "outputs": [
        {
          "output_type": "execute_result",
          "data": {
            "text/plain": [
              "-13.283783090223842"
            ]
          },
          "metadata": {
            "tags": []
          },
          "execution_count": 15
        }
      ]
    },
    {
      "cell_type": "markdown",
      "metadata": {
        "id": "0kwIMah63LTm"
      },
      "source": [
        "Analyzing the coefficients doesn't tell us if the copper or gold price is more important since they have different magnitudes.\n",
        "\n",
        "But it indicates the sign of the relationship, that an increase in gold prices lead to an increase in GOLD US Equity and that a decrease in copper prices lead to an increase in GOLD US Equity.\n",
        "\n",
        "Now let's analyze the residuals to see if the linear model is a good fit."
      ]
    },
    {
      "cell_type": "code",
      "metadata": {
        "id": "xpGb0-fF2xte"
      },
      "source": [
        "import seaborn as sns\n",
        "import scipy.stats as stats"
      ],
      "execution_count": 9,
      "outputs": []
    },
    {
      "cell_type": "code",
      "metadata": {
        "colab": {
          "base_uri": "https://localhost:8080/",
          "height": 312
        },
        "id": "acDw_RVO4F-I",
        "outputId": "daee2b87-d37f-4219-b6de-3eea7dc0cac7"
      },
      "source": [
        "predictions = regressor.predict(X)\n",
        "sns.residplot(x=predictions.reshape(-1), y=y,lowess=True,line_kws={'color': 'red', 'lw': 1, 'alpha': 1})\n",
        "plt.xlabel(\"Fitted values\")\n",
        "plt.title('Residual plot')"
      ],
      "execution_count": 10,
      "outputs": [
        {
          "output_type": "execute_result",
          "data": {
            "text/plain": [
              "Text(0.5, 1.0, 'Residual plot')"
            ]
          },
          "metadata": {
            "tags": []
          },
          "execution_count": 10
        },
        {
          "output_type": "display_data",
          "data": {
            "image/png": "[encoded data removed]",
            "text/plain": [
              "<Figure size 432x288 with 1 Axes>"
            ]
          },
          "metadata": {
            "tags": [],
            "needs_background": "light"
          }
        }
      ]
    },
    {
      "cell_type": "markdown",
      "metadata": {
        "id": "DhrFM8-_6EAl"
      },
      "source": [
        "The Residual Plot seems okay, there are some tendencies that could be a sign of non-linearity but they are small"
      ]
    },
    {
      "cell_type": "code",
      "metadata": {
        "colab": {
          "base_uri": "https://localhost:8080/",
          "height": 475
        },
        "id": "Zr7KajoY47bj",
        "outputId": "7ea162aa-dc35-4700-ebf0-7d68310e7349"
      },
      "source": [
        "residuals = y - predictions.reshape(-1)\n",
        "plt.figure(figsize=(7,7))\n",
        "stats.probplot(residuals, dist=\"norm\", plot=plt)\n",
        "plt.title(\"Normal Q-Q Plot\")"
      ],
      "execution_count": 11,
      "outputs": [
        {
          "output_type": "execute_result",
          "data": {
            "text/plain": [
              "Text(0.5, 1.0, 'Normal Q-Q Plot')"
            ]
          },
          "metadata": {
            "tags": []
          },
          "execution_count": 11
        },
        {
          "output_type": "display_data",
          "data": {
            "image/png": "[encoded data removed]",
            "text/plain": [
              "<Figure size 504x504 with 1 Axes>"
            ]
          },
          "metadata": {
            "tags": [],
            "needs_background": "light"
          }
        }
      ]
    },
    {
      "cell_type": "markdown",
      "metadata": {
        "id": "yWfzcLW26aWm"
      },
      "source": [
        "The residuals seem to adhere well to a normal distribution, which is one of the assumptions made when interpreting a linear regression"
      ]
    },
    {
      "cell_type": "code",
      "metadata": {
        "colab": {
          "base_uri": "https://localhost:8080/",
          "height": 459
        },
        "id": "vQMPkoLC4beI",
        "outputId": "36cf691d-1ae4-4c1a-bbb8-4d3e74905ae0"
      },
      "source": [
        "model_norm_residuals_abs_sqrt=np.sqrt(np.abs(residuals))\n",
        "\n",
        "plt.figure(figsize=(7,7))\n",
        "sns.regplot(predictions.reshape(-1), model_norm_residuals_abs_sqrt,\n",
        "              scatter=True,\n",
        "              lowess=True,\n",
        "              line_kws={'color': 'red', 'lw': 1, 'alpha': 0.8})\n",
        "plt.ylabel(\"Standarized residuals\")\n",
        "plt.xlabel(\"Fitted value\")"
      ],
      "execution_count": 12,
      "outputs": [
        {
          "output_type": "execute_result",
          "data": {
            "text/plain": [
              "Text(0.5, 0, 'Fitted value')"
            ]
          },
          "metadata": {
            "tags": []
          },
          "execution_count": 12
        },
        {
          "output_type": "display_data",
          "data": {
            "image/png": "[encoded data removed]",
            "text/plain": [
              "<Figure size 504x504 with 1 Axes>"
            ]
          },
          "metadata": {
            "tags": [],
            "needs_background": "light"
          }
        }
      ]
    },
    {
      "cell_type": "markdown",
      "metadata": {
        "id": "KOY_kTnD7iIE"
      },
      "source": [
        "The residuals show some signs of heteroscedasticity (unequal variance) for the first values, but they are minor. We can continue assuming equal variance of the residuals and compute the p-values of the coefficients.\n",
        "\n",
        "This time we'll standardize the gold and copper prices in order to know the relative importance of each one."
      ]
    },
    {
      "cell_type": "code",
      "metadata": {
        "id": "z3iaTOFV9i1y"
      },
      "source": [
        "from sklearn import preprocessing\n",
        "X_standardized = preprocessing.StandardScaler().fit_transform(X)"
      ],
      "execution_count": 13,
      "outputs": []
    },
    {
      "cell_type": "code",
      "metadata": {
        "colab": {
          "base_uri": "https://localhost:8080/"
        },
        "id": "R_3nFHsB5gr3",
        "outputId": "5a1d2927-dae0-419c-f0e3-0af315e20a79"
      },
      "source": [
        "import statsmodels.api as sm\n",
        "X_standardized = sm.add_constant(X_standardized) #adding a constant term needed by this library\n",
        "logit_model=sm.OLS(y,X_standardized)\n",
        "result=logit_model.fit()\n",
        "print(result.summary())"
      ],
      "execution_count": 15,
      "outputs": [
        {
          "output_type": "stream",
          "text": [
            "                            OLS Regression Results                            \n",
            "==============================================================================\n",
            "Dep. Variable:                      y   R-squared:                       0.836\n",
            "Model:                            OLS   Adj. R-squared:                  0.835\n",
            "Method:                 Least Squares   F-statistic:                     631.8\n",
            "Date:                Tue, 15 Jun 2021   Prob (F-statistic):           4.62e-98\n",
            "Time:                        01:12:49   Log-Likelihood:                -410.35\n",
            "No. Observations:                 251   AIC:                             826.7\n",
            "Df Residuals:                     248   BIC:                             837.3\n",
            "Df Model:                           2                                         \n",
            "Covariance Type:            nonrobust                                         \n",
            "==============================================================================\n",
            "                 coef    std err          t      P>|t|      [0.025      0.975]\n",
            "------------------------------------------------------------------------------\n",
            "const         24.7240      0.079    313.742      0.000      24.569      24.879\n",
            "x1            -1.1387      0.092    -12.362      0.000      -1.320      -0.957\n",
            "x2             2.0366      0.092     22.109      0.000       1.855       2.218\n",
            "==============================================================================\n",
            "Omnibus:                       17.689   Durbin-Watson:                   0.127\n",
            "Prob(Omnibus):                  0.000   Jarque-Bera (JB):                8.811\n",
            "Skew:                          -0.259   Prob(JB):                       0.0122\n",
            "Kurtosis:                       2.242   Cond. No.                         1.77\n",
            "==============================================================================\n",
            "\n",
            "Warnings:\n",
            "[1] Standard Errors assume that the covariance matrix of the errors is correctly specified.\n"
          ],
          "name": "stdout"
        }
      ]
    },
    {
      "cell_type": "code",
      "metadata": {
        "colab": {
          "base_uri": "https://localhost:8080/"
        },
        "id": "wRt9GqbY8hAq",
        "outputId": "7efae7f5-2c45-4aa2-fa19-dcae7e9a2c13"
      },
      "source": [
        "print(result.pvalues)"
      ],
      "execution_count": 16,
      "outputs": [
        {
          "output_type": "stream",
          "text": [
            "[0.00000000e+00 1.14493088e-27 1.41580343e-60]\n"
          ],
          "name": "stdout"
        }
      ]
    },
    {
      "cell_type": "markdown",
      "metadata": {
        "id": "iQDlzyAA_SQE"
      },
      "source": [
        "The p-values are very low, and if we were testing the hypothesis of the 1st coefficient being negative and the second being positive, we would be able to reject the null hypothesis with all usual alphas.\n",
        "\n",
        "By standardizing the prices, we can see that the price of gold is approximately twice as important as the copper price. The copper price has a negative influence on US Gold Equity, and the gold price has a positive influence."
      ]
    }
  ]
}